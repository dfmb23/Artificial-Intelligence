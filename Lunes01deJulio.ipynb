{
  "nbformat": 4,
  "nbformat_minor": 0,
  "metadata": {
    "colab": {
      "provenance": [],
      "authorship_tag": "ABX9TyNg/ZiJ9Tg/t/ZA2ykiv9Db",
      "include_colab_link": true
    },
    "kernelspec": {
      "name": "python3",
      "display_name": "Python 3"
    },
    "language_info": {
      "name": "python"
    }
  },
  "cells": [
    {
      "cell_type": "markdown",
      "metadata": {
        "id": "view-in-github",
        "colab_type": "text"
      },
      "source": [
        "<a href=\"https://colab.research.google.com/github/dfmb23/Artificial-Intelligence/blob/main/Lunes01deJulio.ipynb\" target=\"_parent\"><img src=\"https://colab.research.google.com/assets/colab-badge.svg\" alt=\"Open In Colab\"/></a>"
      ]
    },
    {
      "cell_type": "code",
      "execution_count": 1,
      "metadata": {
        "colab": {
          "base_uri": "https://localhost:8080/"
        },
        "id": "W5fOXtM-50l6",
        "outputId": "a9002282-82bf-48c8-e17a-e886460cf72f"
      },
      "outputs": [
        {
          "output_type": "stream",
          "name": "stdout",
          "text": [
            "(3,)\n",
            "<class 'numpy.ndarray'>\n",
            "[11 22 33]\n",
            "22\n",
            "[11 22]\n",
            "[22 33]\n",
            "[ 11 888  33]\n"
          ]
        }
      ],
      "source": [
        "import numpy as np\n",
        "\n",
        "\n",
        "\n",
        "a= np.array([11,22,33])\n",
        "print(a.shape)\n",
        "print(type(a))\n",
        "print(a)\n",
        "\n",
        "print(a[1])\n",
        "print(a[:2])\n",
        "print(a[1:])\n",
        "a[1]= 888\n",
        "print(a)"
      ]
    },
    {
      "cell_type": "code",
      "source": [
        "import numpy as np\n",
        "b=np.array(([1,2,3],[11,22,33],[111,222,333]))\n",
        "print(b.shape)\n",
        "print(type(b))\n",
        "print(b)\n",
        "print(b[1,1])\n",
        "aux=b[1:,1:].copy()\n",
        "print(aux.shape)\n",
        "print(aux)\n",
        "\n",
        "print('BEFORE...')\n",
        "print(b)\n",
        "print(aux)\n",
        "\n",
        "aux[1,1]=1000\n",
        "\n",
        "print('AFTER...')\n",
        "print(b)\n",
        "print(aux)"
      ],
      "metadata": {
        "colab": {
          "base_uri": "https://localhost:8080/"
        },
        "id": "LFbjKE3U6M3T",
        "outputId": "9ff53fd0-e11e-4cc4-d1f9-49f95995dc3d"
      },
      "execution_count": 2,
      "outputs": [
        {
          "output_type": "stream",
          "name": "stdout",
          "text": [
            "(3, 3)\n",
            "<class 'numpy.ndarray'>\n",
            "[[  1   2   3]\n",
            " [ 11  22  33]\n",
            " [111 222 333]]\n",
            "22\n",
            "(2, 2)\n",
            "[[ 22  33]\n",
            " [222 333]]\n",
            "BEFORE...\n",
            "[[  1   2   3]\n",
            " [ 11  22  33]\n",
            " [111 222 333]]\n",
            "[[ 22  33]\n",
            " [222 333]]\n",
            "AFTER...\n",
            "[[  1   2   3]\n",
            " [ 11  22  33]\n",
            " [111 222 333]]\n",
            "[[  22   33]\n",
            " [ 222 1000]]\n"
          ]
        }
      ]
    },
    {
      "cell_type": "code",
      "source": [
        "c=np.zeros((4,4))\n",
        "print(c)\n",
        "print(c.shape)\n",
        "d=np.full((4,4),9)\n",
        "print(d)"
      ],
      "metadata": {
        "colab": {
          "base_uri": "https://localhost:8080/"
        },
        "id": "SJzPEwjS6ViT",
        "outputId": "dc3992f9-4f87-40e2-dc6a-6b58810e3fa5"
      },
      "execution_count": 3,
      "outputs": [
        {
          "output_type": "stream",
          "name": "stdout",
          "text": [
            "[[0. 0. 0. 0.]\n",
            " [0. 0. 0. 0.]\n",
            " [0. 0. 0. 0.]\n",
            " [0. 0. 0. 0.]]\n",
            "(4, 4)\n",
            "[[9 9 9 9]\n",
            " [9 9 9 9]\n",
            " [9 9 9 9]\n",
            " [9 9 9 9]]\n"
          ]
        }
      ]
    },
    {
      "cell_type": "code",
      "source": [
        "e=np.eye(3,3)\n",
        "print(e)\n",
        "f=np.ones((4,5))\n",
        "print(f)"
      ],
      "metadata": {
        "colab": {
          "base_uri": "https://localhost:8080/"
        },
        "id": "UZ9U_epH6aPP",
        "outputId": "668038e6-7066-490f-bc49-25af4afbf00c"
      },
      "execution_count": 4,
      "outputs": [
        {
          "output_type": "stream",
          "name": "stdout",
          "text": [
            "[[1. 0. 0.]\n",
            " [0. 1. 0.]\n",
            " [0. 0. 1.]]\n",
            "[[1. 1. 1. 1. 1.]\n",
            " [1. 1. 1. 1. 1.]\n",
            " [1. 1. 1. 1. 1.]\n",
            " [1. 1. 1. 1. 1.]]\n"
          ]
        }
      ]
    },
    {
      "cell_type": "code",
      "source": [
        "g=np.random.random((5,5))\n",
        "print(g)"
      ],
      "metadata": {
        "colab": {
          "base_uri": "https://localhost:8080/"
        },
        "id": "YCCddGFL6i_8",
        "outputId": "1d9215b9-f728-4000-cdcb-230c1272608b"
      },
      "execution_count": 5,
      "outputs": [
        {
          "output_type": "stream",
          "name": "stdout",
          "text": [
            "[[0.75178945 0.40549183 0.40111978 0.36981267 0.71050707]\n",
            " [0.646938   0.06347887 0.89769142 0.19954837 0.42515974]\n",
            " [0.36342833 0.01714586 0.06822818 0.23167662 0.07362745]\n",
            " [0.2810133  0.3029526  0.40978384 0.02877318 0.44532059]\n",
            " [0.71481589 0.24938435 0.72477785 0.38337954 0.45672195]]\n"
          ]
        }
      ]
    },
    {
      "cell_type": "code",
      "source": [
        "tmp1=np.random.randint(1,20,(4,4))\n",
        "print(tmp1)\n",
        "rows=np.array([0,1,2,0])\n",
        "cols=np.arange(4)\n",
        "print(rows)\n",
        "print(cols)\n",
        "print(rows.shape)\n",
        "print(cols.shape)\n",
        "\n",
        "tmp1[rows,cols]=100\n",
        "print(tmp1)"
      ],
      "metadata": {
        "colab": {
          "base_uri": "https://localhost:8080/"
        },
        "id": "wZ7S0Lss6nLN",
        "outputId": "3ec463c4-415f-46df-e0f7-7c541aac5349"
      },
      "execution_count": 6,
      "outputs": [
        {
          "output_type": "stream",
          "name": "stdout",
          "text": [
            "[[15  2 14 16]\n",
            " [ 7  4 11 17]\n",
            " [17 19  5  8]\n",
            " [14 19  8  2]]\n",
            "[0 1 2 0]\n",
            "[0 1 2 3]\n",
            "(4,)\n",
            "(4,)\n",
            "[[100   2  14 100]\n",
            " [  7 100  11  17]\n",
            " [ 17  19 100   8]\n",
            " [ 14  19   8   2]]\n"
          ]
        }
      ]
    },
    {
      "cell_type": "code",
      "source": [
        "tmp1[rows,cols]=100\n",
        "print(tmp1)"
      ],
      "metadata": {
        "colab": {
          "base_uri": "https://localhost:8080/"
        },
        "id": "VmwwT8oZ6r66",
        "outputId": "7a43fde6-29f0-4b1c-9f10-bb66f963f74b"
      },
      "execution_count": 7,
      "outputs": [
        {
          "output_type": "stream",
          "name": "stdout",
          "text": [
            "[[100   2  14 100]\n",
            " [  7 100  11  17]\n",
            " [ 17  19 100   8]\n",
            " [ 14  19   8   2]]\n"
          ]
        }
      ]
    },
    {
      "cell_type": "code",
      "source": [
        "tmp1 = np.random.randint(20, 50,(6, 6))\n",
        "print(tmp1)"
      ],
      "metadata": {
        "colab": {
          "base_uri": "https://localhost:8080/"
        },
        "id": "WGnJ4AC761E_",
        "outputId": "815fdec3-cbea-4946-8eb1-0168e4907bbb"
      },
      "execution_count": 8,
      "outputs": [
        {
          "output_type": "stream",
          "name": "stdout",
          "text": [
            "[[24 31 30 41 27 42]\n",
            " [48 28 41 21 43 27]\n",
            " [42 28 29 25 39 26]\n",
            " [31 40 42 26 41 44]\n",
            " [31 43 21 46 44 29]\n",
            " [44 38 44 46 38 32]]\n"
          ]
        }
      ]
    },
    {
      "cell_type": "code",
      "source": [
        "filter=(tmp1>45)\n",
        "print(filter)\n",
        "print(tmp1[filter])"
      ],
      "metadata": {
        "colab": {
          "base_uri": "https://localhost:8080/"
        },
        "id": "NSXLGmy166ii",
        "outputId": "e4a7255a-7db9-458b-a981-e77628e3a61d"
      },
      "execution_count": 9,
      "outputs": [
        {
          "output_type": "stream",
          "name": "stdout",
          "text": [
            "[[False False False False False False]\n",
            " [ True False False False False False]\n",
            " [False False False False False False]\n",
            " [False False False False False False]\n",
            " [False False False  True False False]\n",
            " [False False False  True False False]]\n",
            "[48 46 46]\n"
          ]
        }
      ]
    },
    {
      "cell_type": "code",
      "source": [
        "tmp1 = np.random.randint(1, 100,(10, 10))\n",
        "print(tmp1)\n",
        "par=tmp1[tmp1%2==0]\n",
        "print(par)"
      ],
      "metadata": {
        "colab": {
          "base_uri": "https://localhost:8080/"
        },
        "id": "9WfYQgwv6-kU",
        "outputId": "266fc86a-db12-4a49-dbd1-ec746a2ce8be"
      },
      "execution_count": 10,
      "outputs": [
        {
          "output_type": "stream",
          "name": "stdout",
          "text": [
            "[[42 57 89 71 90 99 94 43 82  5]\n",
            " [77 53 18 41 29  7 42 71 50 77]\n",
            " [86 61 27 71 17 16 40 36 38 77]\n",
            " [44 46 74 85 18 32 15 10 53 92]\n",
            " [97 92 96 58 77 78 67 64 23 22]\n",
            " [24 37 42 42 55 94 12 39 72  5]\n",
            " [40 31 50 93 11 97 53 80 85 81]\n",
            " [54 70 51 34 71 99 79 65  1 93]\n",
            " [22 64 91 56 94  2 98 91 21 27]\n",
            " [17 57 73 55 92 79 34 31 92 48]]\n",
            "[42 90 94 82 18 42 50 86 16 40 36 38 44 46 74 18 32 10 92 92 96 58 78 64\n",
            " 22 24 42 42 94 12 72 40 50 80 54 70 34 22 64 56 94  2 98 92 34 92 48]\n"
          ]
        }
      ]
    },
    {
      "cell_type": "code",
      "source": [
        "tmp3=np.array([1,2,3,4,5],dtype=np.float64)\n",
        "print(tmp3.dtype)"
      ],
      "metadata": {
        "colab": {
          "base_uri": "https://localhost:8080/"
        },
        "id": "pHV8fAIG7E9-",
        "outputId": "a4dab837-8ce0-449d-a5cb-e6b765fc10f8"
      },
      "execution_count": 11,
      "outputs": [
        {
          "output_type": "stream",
          "name": "stdout",
          "text": [
            "float64\n"
          ]
        }
      ]
    },
    {
      "cell_type": "code",
      "source": [
        "x=np.array([[1,2],[11,22]])\n",
        "y=np.array([[22,33],[44,55]])\n",
        "print(x)\n",
        "print(y)\n",
        "\n",
        "\n",
        "print(np.add(x,y))\n",
        "print(np.subtract(x,y))\n",
        "print(np.multiply(x,y))\n",
        "print(np.divide(x,y))\n",
        "print(np.sqrt(x))"
      ],
      "metadata": {
        "colab": {
          "base_uri": "https://localhost:8080/"
        },
        "id": "tOBNiwcs7I5P",
        "outputId": "96ac745f-9cc5-4c9e-ffe6-b7bf8ae2e2d9"
      },
      "execution_count": 12,
      "outputs": [
        {
          "output_type": "stream",
          "name": "stdout",
          "text": [
            "[[ 1  2]\n",
            " [11 22]]\n",
            "[[22 33]\n",
            " [44 55]]\n",
            "[[23 35]\n",
            " [55 77]]\n",
            "[[-21 -31]\n",
            " [-33 -33]]\n",
            "[[  22   66]\n",
            " [ 484 1210]]\n",
            "[[0.04545455 0.06060606]\n",
            " [0.25       0.4       ]]\n",
            "[[1.         1.41421356]\n",
            " [3.31662479 4.69041576]]\n"
          ]
        }
      ]
    },
    {
      "cell_type": "code",
      "source": [
        "tmp1 = np.random.randint(1, 10,(2, 5))\n",
        "print(tmp1)\n",
        "aux=tmp1.mean()\n",
        "print(aux)"
      ],
      "metadata": {
        "colab": {
          "base_uri": "https://localhost:8080/"
        },
        "id": "7v9nHG6Y7OwO",
        "outputId": "4b336f61-68bd-459d-e33f-fd780eaeeaa5"
      },
      "execution_count": 13,
      "outputs": [
        {
          "output_type": "stream",
          "name": "stdout",
          "text": [
            "[[9 7 5 9 2]\n",
            " [2 3 6 5 3]]\n",
            "5.1\n"
          ]
        }
      ]
    },
    {
      "cell_type": "code",
      "source": [
        "print(tmp1.mean(axis=1))\n",
        "print(tmp1.mean(axis=0))"
      ],
      "metadata": {
        "colab": {
          "base_uri": "https://localhost:8080/"
        },
        "id": "oivkl1l07XtK",
        "outputId": "b6174335-a253-42f1-ba28-d7f1cd600673"
      },
      "execution_count": 14,
      "outputs": [
        {
          "output_type": "stream",
          "name": "stdout",
          "text": [
            "[6.4 3.8]\n",
            "[5.5 5.  5.5 7.  2.5]\n"
          ]
        }
      ]
    }
  ]
}