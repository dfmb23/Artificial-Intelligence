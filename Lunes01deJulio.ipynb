{
  "nbformat": 4,
  "nbformat_minor": 0,
  "metadata": {
    "colab": {
      "provenance": [],
      "authorship_tag": "ABX9TyP7L6ypbiUEHYMyOEQUcOHm",
      "include_colab_link": true
    },
    "kernelspec": {
      "name": "python3",
      "display_name": "Python 3"
    },
    "language_info": {
      "name": "python"
    }
  },
  "cells": [
    {
      "cell_type": "markdown",
      "metadata": {
        "id": "view-in-github",
        "colab_type": "text"
      },
      "source": [
        "<a href=\"https://colab.research.google.com/github/dfmb23/Artificial-Intelligence/blob/main/Lunes01deJulio.ipynb\" target=\"_parent\"><img src=\"https://colab.research.google.com/assets/colab-badge.svg\" alt=\"Open In Colab\"/></a>"
      ]
    },
    {
      "cell_type": "code",
      "execution_count": null,
      "metadata": {
        "colab": {
          "base_uri": "https://localhost:8080/"
        },
        "id": "W5fOXtM-50l6",
        "outputId": "a9002282-82bf-48c8-e17a-e886460cf72f"
      },
      "outputs": [
        {
          "output_type": "stream",
          "name": "stdout",
          "text": [
            "(3,)\n",
            "<class 'numpy.ndarray'>\n",
            "[11 22 33]\n",
            "22\n",
            "[11 22]\n",
            "[22 33]\n",
            "[ 11 888  33]\n"
          ]
        }
      ],
      "source": [
        "import numpy as np\n",
        "\n",
        "\n",
        "\n",
        "a= np.array([11,22,33])\n",
        "print(a.shape)\n",
        "print(type(a))\n",
        "print(a)\n",
        "\n",
        "print(a[1])\n",
        "print(a[:2])\n",
        "print(a[1:])\n",
        "a[1]= 888\n",
        "print(a)"
      ]
    },
    {
      "cell_type": "code",
      "source": [
        "import numpy as np\n",
        "b=np.array(([1,2,3],[11,22,33],[111,222,333]))\n",
        "print(b.shape)\n",
        "print(type(b))\n",
        "print(b)\n",
        "print(b[1,1])\n",
        "aux=b[1:,1:].copy()\n",
        "print(aux.shape)\n",
        "print(aux)\n",
        "\n",
        "print('BEFORE...')\n",
        "print(b)\n",
        "print(aux)\n",
        "\n",
        "aux[1,1]=1000\n",
        "\n",
        "print('AFTER...')\n",
        "print(b)\n",
        "print(aux)"
      ],
      "metadata": {
        "colab": {
          "base_uri": "https://localhost:8080/"
        },
        "id": "LFbjKE3U6M3T",
        "outputId": "9ff53fd0-e11e-4cc4-d1f9-49f95995dc3d"
      },
      "execution_count": null,
      "outputs": [
        {
          "output_type": "stream",
          "name": "stdout",
          "text": [
            "(3, 3)\n",
            "<class 'numpy.ndarray'>\n",
            "[[  1   2   3]\n",
            " [ 11  22  33]\n",
            " [111 222 333]]\n",
            "22\n",
            "(2, 2)\n",
            "[[ 22  33]\n",
            " [222 333]]\n",
            "BEFORE...\n",
            "[[  1   2   3]\n",
            " [ 11  22  33]\n",
            " [111 222 333]]\n",
            "[[ 22  33]\n",
            " [222 333]]\n",
            "AFTER...\n",
            "[[  1   2   3]\n",
            " [ 11  22  33]\n",
            " [111 222 333]]\n",
            "[[  22   33]\n",
            " [ 222 1000]]\n"
          ]
        }
      ]
    },
    {
      "cell_type": "code",
      "source": [
        "c=np.zeros((4,4))\n",
        "print(c)\n",
        "print(c.shape)\n",
        "d=np.full((4,4),9)\n",
        "print(d)"
      ],
      "metadata": {
        "colab": {
          "base_uri": "https://localhost:8080/"
        },
        "id": "SJzPEwjS6ViT",
        "outputId": "dc3992f9-4f87-40e2-dc6a-6b58810e3fa5"
      },
      "execution_count": null,
      "outputs": [
        {
          "output_type": "stream",
          "name": "stdout",
          "text": [
            "[[0. 0. 0. 0.]\n",
            " [0. 0. 0. 0.]\n",
            " [0. 0. 0. 0.]\n",
            " [0. 0. 0. 0.]]\n",
            "(4, 4)\n",
            "[[9 9 9 9]\n",
            " [9 9 9 9]\n",
            " [9 9 9 9]\n",
            " [9 9 9 9]]\n"
          ]
        }
      ]
    },
    {
      "cell_type": "code",
      "source": [
        "e=np.eye(3,3)\n",
        "print(e)\n",
        "f=np.ones((4,5))\n",
        "print(f)"
      ],
      "metadata": {
        "colab": {
          "base_uri": "https://localhost:8080/"
        },
        "id": "UZ9U_epH6aPP",
        "outputId": "668038e6-7066-490f-bc49-25af4afbf00c"
      },
      "execution_count": null,
      "outputs": [
        {
          "output_type": "stream",
          "name": "stdout",
          "text": [
            "[[1. 0. 0.]\n",
            " [0. 1. 0.]\n",
            " [0. 0. 1.]]\n",
            "[[1. 1. 1. 1. 1.]\n",
            " [1. 1. 1. 1. 1.]\n",
            " [1. 1. 1. 1. 1.]\n",
            " [1. 1. 1. 1. 1.]]\n"
          ]
        }
      ]
    },
    {
      "cell_type": "code",
      "source": [
        "g=np.random.random((5,5))\n",
        "print(g)"
      ],
      "metadata": {
        "colab": {
          "base_uri": "https://localhost:8080/"
        },
        "id": "YCCddGFL6i_8",
        "outputId": "1d9215b9-f728-4000-cdcb-230c1272608b"
      },
      "execution_count": null,
      "outputs": [
        {
          "output_type": "stream",
          "name": "stdout",
          "text": [
            "[[0.75178945 0.40549183 0.40111978 0.36981267 0.71050707]\n",
            " [0.646938   0.06347887 0.89769142 0.19954837 0.42515974]\n",
            " [0.36342833 0.01714586 0.06822818 0.23167662 0.07362745]\n",
            " [0.2810133  0.3029526  0.40978384 0.02877318 0.44532059]\n",
            " [0.71481589 0.24938435 0.72477785 0.38337954 0.45672195]]\n"
          ]
        }
      ]
    },
    {
      "cell_type": "code",
      "source": [
        "tmp1=np.random.randint(1,20,(4,4))\n",
        "print(tmp1)\n",
        "rows=np.array([0,1,2,0])\n",
        "cols=np.arange(4)\n",
        "print(rows)\n",
        "print(cols)\n",
        "print(rows.shape)\n",
        "print(cols.shape)\n",
        "\n",
        "tmp1[rows,cols]=100\n",
        "print(tmp1)"
      ],
      "metadata": {
        "colab": {
          "base_uri": "https://localhost:8080/"
        },
        "id": "wZ7S0Lss6nLN",
        "outputId": "3ec463c4-415f-46df-e0f7-7c541aac5349"
      },
      "execution_count": null,
      "outputs": [
        {
          "output_type": "stream",
          "name": "stdout",
          "text": [
            "[[15  2 14 16]\n",
            " [ 7  4 11 17]\n",
            " [17 19  5  8]\n",
            " [14 19  8  2]]\n",
            "[0 1 2 0]\n",
            "[0 1 2 3]\n",
            "(4,)\n",
            "(4,)\n",
            "[[100   2  14 100]\n",
            " [  7 100  11  17]\n",
            " [ 17  19 100   8]\n",
            " [ 14  19   8   2]]\n"
          ]
        }
      ]
    },
    {
      "cell_type": "code",
      "source": [
        "tmp1[rows,cols]=100\n",
        "print(tmp1)"
      ],
      "metadata": {
        "colab": {
          "base_uri": "https://localhost:8080/"
        },
        "id": "VmwwT8oZ6r66",
        "outputId": "7a43fde6-29f0-4b1c-9f10-bb66f963f74b"
      },
      "execution_count": null,
      "outputs": [
        {
          "output_type": "stream",
          "name": "stdout",
          "text": [
            "[[100   2  14 100]\n",
            " [  7 100  11  17]\n",
            " [ 17  19 100   8]\n",
            " [ 14  19   8   2]]\n"
          ]
        }
      ]
    },
    {
      "cell_type": "code",
      "source": [
        "tmp1 = np.random.randint(20, 50,(6, 6))\n",
        "print(tmp1)"
      ],
      "metadata": {
        "colab": {
          "base_uri": "https://localhost:8080/"
        },
        "id": "WGnJ4AC761E_",
        "outputId": "815fdec3-cbea-4946-8eb1-0168e4907bbb"
      },
      "execution_count": null,
      "outputs": [
        {
          "output_type": "stream",
          "name": "stdout",
          "text": [
            "[[24 31 30 41 27 42]\n",
            " [48 28 41 21 43 27]\n",
            " [42 28 29 25 39 26]\n",
            " [31 40 42 26 41 44]\n",
            " [31 43 21 46 44 29]\n",
            " [44 38 44 46 38 32]]\n"
          ]
        }
      ]
    },
    {
      "cell_type": "code",
      "source": [
        "filter=(tmp1>45)\n",
        "print(filter)\n",
        "print(tmp1[filter])"
      ],
      "metadata": {
        "colab": {
          "base_uri": "https://localhost:8080/"
        },
        "id": "NSXLGmy166ii",
        "outputId": "e4a7255a-7db9-458b-a981-e77628e3a61d"
      },
      "execution_count": null,
      "outputs": [
        {
          "output_type": "stream",
          "name": "stdout",
          "text": [
            "[[False False False False False False]\n",
            " [ True False False False False False]\n",
            " [False False False False False False]\n",
            " [False False False False False False]\n",
            " [False False False  True False False]\n",
            " [False False False  True False False]]\n",
            "[48 46 46]\n"
          ]
        }
      ]
    },
    {
      "cell_type": "code",
      "source": [
        "tmp1 = np.random.randint(1, 100,(10, 10))\n",
        "print(tmp1)\n",
        "par=tmp1[tmp1%2==0]\n",
        "print(par)"
      ],
      "metadata": {
        "colab": {
          "base_uri": "https://localhost:8080/"
        },
        "id": "9WfYQgwv6-kU",
        "outputId": "266fc86a-db12-4a49-dbd1-ec746a2ce8be"
      },
      "execution_count": null,
      "outputs": [
        {
          "output_type": "stream",
          "name": "stdout",
          "text": [
            "[[42 57 89 71 90 99 94 43 82  5]\n",
            " [77 53 18 41 29  7 42 71 50 77]\n",
            " [86 61 27 71 17 16 40 36 38 77]\n",
            " [44 46 74 85 18 32 15 10 53 92]\n",
            " [97 92 96 58 77 78 67 64 23 22]\n",
            " [24 37 42 42 55 94 12 39 72  5]\n",
            " [40 31 50 93 11 97 53 80 85 81]\n",
            " [54 70 51 34 71 99 79 65  1 93]\n",
            " [22 64 91 56 94  2 98 91 21 27]\n",
            " [17 57 73 55 92 79 34 31 92 48]]\n",
            "[42 90 94 82 18 42 50 86 16 40 36 38 44 46 74 18 32 10 92 92 96 58 78 64\n",
            " 22 24 42 42 94 12 72 40 50 80 54 70 34 22 64 56 94  2 98 92 34 92 48]\n"
          ]
        }
      ]
    },
    {
      "cell_type": "code",
      "source": [
        "tmp3=np.array([1,2,3,4,5],dtype=np.float64)\n",
        "print(tmp3.dtype)"
      ],
      "metadata": {
        "colab": {
          "base_uri": "https://localhost:8080/"
        },
        "id": "pHV8fAIG7E9-",
        "outputId": "a4dab837-8ce0-449d-a5cb-e6b765fc10f8"
      },
      "execution_count": null,
      "outputs": [
        {
          "output_type": "stream",
          "name": "stdout",
          "text": [
            "float64\n"
          ]
        }
      ]
    },
    {
      "cell_type": "code",
      "source": [
        "x=np.array([[1,2],[11,22]])\n",
        "y=np.array([[22,33],[44,55]])\n",
        "print(x)\n",
        "print(y)\n",
        "\n",
        "\n",
        "print(np.add(x,y))\n",
        "print(np.subtract(x,y))\n",
        "print(np.multiply(x,y))\n",
        "print(np.divide(x,y))\n",
        "print(np.sqrt(x))"
      ],
      "metadata": {
        "colab": {
          "base_uri": "https://localhost:8080/"
        },
        "id": "tOBNiwcs7I5P",
        "outputId": "96ac745f-9cc5-4c9e-ffe6-b7bf8ae2e2d9"
      },
      "execution_count": null,
      "outputs": [
        {
          "output_type": "stream",
          "name": "stdout",
          "text": [
            "[[ 1  2]\n",
            " [11 22]]\n",
            "[[22 33]\n",
            " [44 55]]\n",
            "[[23 35]\n",
            " [55 77]]\n",
            "[[-21 -31]\n",
            " [-33 -33]]\n",
            "[[  22   66]\n",
            " [ 484 1210]]\n",
            "[[0.04545455 0.06060606]\n",
            " [0.25       0.4       ]]\n",
            "[[1.         1.41421356]\n",
            " [3.31662479 4.69041576]]\n"
          ]
        }
      ]
    },
    {
      "cell_type": "code",
      "source": [
        "tmp1 = np.random.randint(1, 10,(2, 5))\n",
        "print(tmp1)\n",
        "aux=tmp1.mean()\n",
        "print(aux)"
      ],
      "metadata": {
        "colab": {
          "base_uri": "https://localhost:8080/"
        },
        "id": "7v9nHG6Y7OwO",
        "outputId": "4b336f61-68bd-459d-e33f-fd780eaeeaa5"
      },
      "execution_count": null,
      "outputs": [
        {
          "output_type": "stream",
          "name": "stdout",
          "text": [
            "[[9 7 5 9 2]\n",
            " [2 3 6 5 3]]\n",
            "5.1\n"
          ]
        }
      ]
    },
    {
      "cell_type": "code",
      "source": [
        "print(tmp1.mean(axis=1))\n",
        "print(tmp1.mean(axis=0))"
      ],
      "metadata": {
        "colab": {
          "base_uri": "https://localhost:8080/"
        },
        "id": "oivkl1l07XtK",
        "outputId": "b6174335-a253-42f1-ba28-d7f1cd600673"
      },
      "execution_count": null,
      "outputs": [
        {
          "output_type": "stream",
          "name": "stdout",
          "text": [
            "[6.4 3.8]\n",
            "[5.5 5.  5.5 7.  2.5]\n"
          ]
        }
      ]
    },
    {
      "cell_type": "code",
      "source": [
        "import numpy as np\n",
        "a=np.random.randint(1,10, (3,4))\n",
        "print(a)\n",
        "tmp=np.mean(a)\n",
        "print(tmp)\n",
        "print(a.mean())\n",
        "tmp=a.mean(axis=1)\n",
        "print(tmp)\n",
        "tmp=(a.mean(axis=0))\n",
        "print(tmp)\n",
        "\n",
        "##para sumar todos los elementos\n",
        "aux=a.sum()\n",
        "print(aux)\n",
        "\n",
        "##para calcular la mediana\n",
        "\n",
        "medianValue=np.median(a,axis=1)\n",
        "print(medianValue)\n"
      ],
      "metadata": {
        "id": "uUOLOceDojAy",
        "outputId": "060604ec-9aef-434d-9eb2-449222ffb4c4",
        "colab": {
          "base_uri": "https://localhost:8080/"
        }
      },
      "execution_count": 10,
      "outputs": [
        {
          "output_type": "stream",
          "name": "stdout",
          "text": [
            "[[5 5 9 5]\n",
            " [2 2 2 5]\n",
            " [1 2 4 9]]\n",
            "4.25\n",
            "4.25\n",
            "[6.   2.75 4.  ]\n",
            "[2.66666667 3.         5.         6.33333333]\n",
            "51\n",
            "[5. 2. 3.]\n"
          ]
        }
      ]
    },
    {
      "cell_type": "code",
      "source": [
        "##sorting (ordenar)\n",
        "\n",
        "b=np.random.rand(10)\n",
        "print(b)\n",
        "print(b.shape)\n",
        "b.sort()\n",
        "print(b)\n"
      ],
      "metadata": {
        "id": "9mM32NyirJyg",
        "outputId": "e2d8cbb1-8c22-4ae0-a59a-20d352005246",
        "colab": {
          "base_uri": "https://localhost:8080/"
        }
      },
      "execution_count": 12,
      "outputs": [
        {
          "output_type": "stream",
          "name": "stdout",
          "text": [
            "[0.01350676 0.28913251 0.68394949 0.90229174 0.71774838 0.43554566\n",
            " 0.95474925 0.3537741  0.35059003 0.45199523]\n",
            "(10,)\n",
            "[0.01350676 0.28913251 0.35059003 0.3537741  0.43554566 0.45199523\n",
            " 0.68394949 0.71774838 0.90229174 0.95474925]\n"
          ]
        }
      ]
    },
    {
      "cell_type": "code",
      "source": [
        "##para usarvalores unicos\n",
        "c=np.array([2,3,4,2,5,3,5])\n",
        "print(np.unique(c))"
      ],
      "metadata": {
        "id": "dObXWQlGruho",
        "outputId": "a84dd255-c887-4684-a252-f5e23270b4f0",
        "colab": {
          "base_uri": "https://localhost:8080/"
        }
      },
      "execution_count": 13,
      "outputs": [
        {
          "output_type": "stream",
          "name": "stdout",
          "text": [
            "[2 3 4 5]\n"
          ]
        }
      ]
    },
    {
      "cell_type": "code",
      "source": [
        "string1=np.array([\"desk\", \"chair\", \"bulb\"])\n",
        "string2=np.array([\"lamp\", \"bulb\", \"chair\"])\n",
        "\n",
        "tmp1=np.intersect1d(string1,string2)\n",
        "print(tmp1)\n",
        "tmp2=np.union1d(string1,string2)\n",
        "print(tmp2)\n",
        "\n",
        "tmp3=np.setdiff1d(string1,string2)\n",
        "print(tmp3)\n",
        "tmp4=np.setdiff1d(string2,string1)\n",
        "print(tmp4)\n",
        "tmp5=np.in1d(string1,string2)\n",
        "print(tmp5)"
      ],
      "metadata": {
        "id": "95g-kbdfsRmj",
        "outputId": "ec036310-b0f7-448c-a2c1-1bcb66561508",
        "colab": {
          "base_uri": "https://localhost:8080/"
        }
      },
      "execution_count": 18,
      "outputs": [
        {
          "output_type": "stream",
          "name": "stdout",
          "text": [
            "['bulb' 'chair']\n",
            "['bulb' 'chair' 'desk' 'lamp']\n",
            "['desk']\n",
            "['lamp']\n",
            "[False  True  True]\n"
          ]
        }
      ]
    },
    {
      "cell_type": "code",
      "source": [
        "##broadcasting (transmitir0)\n",
        "\n",
        "aux=np.zeros((4,3))\n",
        "print(aux)\n",
        "replicate=np.array([1,2,1])\n",
        "aux=aux+replicate\n",
        "print(aux)\n",
        "replicateCol=np.array([10,10,10])\n",
        "print(replicateCol.shape)\n",
        "replicateCol=np.reshape(replicateCol, (3,1))\n",
        "print(replicateCol.shape)\n",
        "aux=np.zeros((3,3))\n",
        "aux1=replicateCol+aux\n",
        "print(aux1)\n",
        "print(\"we are here ......\")\n",
        "vector=np.array([45])\n",
        "matrixZeros=np.zeros([5,5])\n",
        "print(matrixZeros)\n",
        "print(matrixZeros+vector)"
      ],
      "metadata": {
        "id": "TWY8oGJ9uODf",
        "outputId": "0e746bc7-41c8-4eb7-e3ed-4715017f2509",
        "colab": {
          "base_uri": "https://localhost:8080/"
        }
      },
      "execution_count": 26,
      "outputs": [
        {
          "output_type": "stream",
          "name": "stdout",
          "text": [
            "[[0. 0. 0.]\n",
            " [0. 0. 0.]\n",
            " [0. 0. 0.]\n",
            " [0. 0. 0.]]\n",
            "[[1. 2. 1.]\n",
            " [1. 2. 1.]\n",
            " [1. 2. 1.]\n",
            " [1. 2. 1.]]\n",
            "(3,)\n",
            "(3, 1)\n",
            "[[10. 10. 10.]\n",
            " [10. 10. 10.]\n",
            " [10. 10. 10.]]\n",
            "we are here ......\n",
            "[[0. 0. 0. 0. 0.]\n",
            " [0. 0. 0. 0. 0.]\n",
            " [0. 0. 0. 0. 0.]\n",
            " [0. 0. 0. 0. 0.]\n",
            " [0. 0. 0. 0. 0.]]\n",
            "[[45. 45. 45. 45. 45.]\n",
            " [45. 45. 45. 45. 45.]\n",
            " [45. 45. 45. 45. 45.]\n",
            " [45. 45. 45. 45. 45.]\n",
            " [45. 45. 45. 45. 45.]]\n"
          ]
        }
      ]
    }
  ]
}