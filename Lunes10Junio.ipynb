{
  "nbformat": 4,
  "nbformat_minor": 0,
  "metadata": {
    "colab": {
      "provenance": [],
      "authorship_tag": "ABX9TyNgowhrqc/C2XXjcN9DbhKv",
      "include_colab_link": true
    },
    "kernelspec": {
      "name": "python3",
      "display_name": "Python 3"
    },
    "language_info": {
      "name": "python"
    }
  },
  "cells": [
    {
      "cell_type": "markdown",
      "metadata": {
        "id": "view-in-github",
        "colab_type": "text"
      },
      "source": [
        "<a href=\"https://colab.research.google.com/github/dfmb23/Artificial-Intelligence/blob/main/Lunes10Junio.ipynb\" target=\"_parent\"><img src=\"https://colab.research.google.com/assets/colab-badge.svg\" alt=\"Open In Colab\"/></a>"
      ]
    },
    {
      "cell_type": "code",
      "execution_count": null,
      "metadata": {
        "colab": {
          "base_uri": "https://localhost:8080/"
        },
        "id": "2285GBLZ-NJS",
        "outputId": "dd8b8eb6-e147-457f-b1b9-65408c151125"
      },
      "outputs": [
        {
          "output_type": "stream",
          "name": "stdout",
          "text": [
            "3.10.12 (main, Nov 20 2023, 15:14:05) [GCC 11.4.0]\n"
          ]
        }
      ],
      "source": [
        "import sys\n",
        "print(sys.version)"
      ]
    },
    {
      "cell_type": "code",
      "source": [
        "myNumber=3\n",
        "myNumberDecimal=3.6\n",
        "state=True"
      ],
      "metadata": {
        "id": "3aes8YXOCk3G"
      },
      "execution_count": 2,
      "outputs": []
    },
    {
      "cell_type": "code",
      "source": [
        "print(f'valor entero= {myNumber}')\n",
        "print(f'valor decimal= {myNumberDecimal}')\n",
        "print(f'valor booleano es= {state}')"
      ],
      "metadata": {
        "id": "NIsYI3u5DUUU",
        "outputId": "35a8e77e-5c4b-4930-c653-da5c14a483dc",
        "colab": {
          "base_uri": "https://localhost:8080/"
        }
      },
      "execution_count": 6,
      "outputs": [
        {
          "output_type": "stream",
          "name": "stdout",
          "text": [
            "valor entero= 3\n",
            "valor decimal= 3.6\n",
            "valor booleano es= True\n"
          ]
        }
      ]
    },
    {
      "cell_type": "code",
      "source": [
        "aux1=10\n",
        "aux2=2\n",
        "\n",
        "print('La suna de las variables aux1 + aux2 =',aux1+aux2)"
      ],
      "metadata": {
        "id": "nOwoDpAqE8Rd",
        "outputId": "afacb1db-7e1c-411d-a86c-b40e10fd6b0f",
        "colab": {
          "base_uri": "https://localhost:8080/"
        }
      },
      "execution_count": 9,
      "outputs": [
        {
          "output_type": "stream",
          "name": "stdout",
          "text": [
            "La suna de las variables aux1 + aux2 = 12\n"
          ]
        }
      ]
    },
    {
      "cell_type": "code",
      "source": [
        "temp= aux1**aux2\n",
        "\n",
        "print(f'El resultado de 10^25={temp}')"
      ],
      "metadata": {
        "id": "AuoPc0byFYG0",
        "outputId": "47bad08e-288f-4e6b-ba22-68d2edf897d3",
        "colab": {
          "base_uri": "https://localhost:8080/"
        }
      },
      "execution_count": 17,
      "outputs": [
        {
          "output_type": "stream",
          "name": "stdout",
          "text": [
            "El resultado de 10^25=100\n"
          ]
        }
      ]
    },
    {
      "cell_type": "code",
      "source": [
        "var1= 'Hola'\n",
        "var2= ',Soy Diego'\n",
        "\n",
        "print(var1 + var2)"
      ],
      "metadata": {
        "id": "-J-X9kj7GrV8",
        "outputId": "e4a1538e-a12a-4d6c-9965-0ab512f7914d",
        "colab": {
          "base_uri": "https://localhost:8080/"
        }
      },
      "execution_count": 23,
      "outputs": [
        {
          "output_type": "stream",
          "name": "stdout",
          "text": [
            "Hola,Soy Diego\n"
          ]
        }
      ]
    },
    {
      "cell_type": "code",
      "source": [
        "print(3*var1)"
      ],
      "metadata": {
        "id": "WkfBtphEHIDD",
        "outputId": "11613eab-b0d5-4a1e-957d-23b6adf847fe",
        "colab": {
          "base_uri": "https://localhost:8080/"
        }
      },
      "execution_count": 25,
      "outputs": [
        {
          "output_type": "stream",
          "name": "stdout",
          "text": [
            "HolaHolaHola\n"
          ]
        }
      ]
    },
    {
      "cell_type": "code",
      "source": [
        "num1=10\n",
        "num2=10.5\n"
      ],
      "metadata": {
        "id": "UMR1ZHK9HN40"
      },
      "execution_count": 27,
      "outputs": []
    },
    {
      "cell_type": "code",
      "source": [
        "print('El tipo de el numero es: ', type (num1))\n",
        "print('El tipo de el numero es: ', type (num2))"
      ],
      "metadata": {
        "id": "1Hz_VspFHWxU",
        "outputId": "4b543e5e-23da-4165-f2c9-a6d30a92251a",
        "colab": {
          "base_uri": "https://localhost:8080/"
        }
      },
      "execution_count": 28,
      "outputs": [
        {
          "output_type": "stream",
          "name": "stdout",
          "text": [
            "El tipo de el numero es:  <class 'int'>\n",
            "El tipo de el numero es:  <class 'float'>\n"
          ]
        }
      ]
    }
  ]
}