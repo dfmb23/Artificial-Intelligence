{
  "nbformat": 4,
  "nbformat_minor": 0,
  "metadata": {
    "colab": {
      "provenance": [],
      "authorship_tag": "ABX9TyNWXzT/ZrK9pzNGOHFPof+C",
      "include_colab_link": true
    },
    "kernelspec": {
      "name": "python3",
      "display_name": "Python 3"
    },
    "language_info": {
      "name": "python"
    }
  },
  "cells": [
    {
      "cell_type": "markdown",
      "metadata": {
        "id": "view-in-github",
        "colab_type": "text"
      },
      "source": [
        "<a href=\"https://colab.research.google.com/github/dfmb23/Artificial-Intelligence/blob/main/Martes25deJunio.ipynb\" target=\"_parent\"><img src=\"https://colab.research.google.com/assets/colab-badge.svg\" alt=\"Open In Colab\"/></a>"
      ]
    },
    {
      "cell_type": "code",
      "execution_count": null,
      "metadata": {
        "id": "NiYQXYO4pb30"
      },
      "outputs": [],
      "source": [
        "#tmp1=\"hello\"\n",
        "#print(tmp1.capitalize{})\n",
        "\n",
        "\n",
        "aux1=[1,2,3,4,5,6,7,8,9,10]\n",
        "print(aux1)\n",
        "\n",
        "aux1[4]=10\n",
        "print(aux1)\n",
        "\n",
        "print(aux1[-1])\n",
        "\n",
        "print(aux1[3:7])\n",
        "\n",
        "print(aux1[0:5])\n",
        "\n",
        "print(aux1[:5])"
      ]
    },
    {
      "cell_type": "code",
      "source": [
        "    #  aux2=list()\n",
        "    # for i in range(100):\n",
        "    #   aux2.append(i)\n",
        "\n",
        "    # print(aux2[:20])\n",
        "\n",
        "\n",
        "  #  aux3=list()\n",
        "  #   for indx, elen  in enumerate(aux2):\n",
        "        #if aux2[indx]%2==0:\n",
        "         # aux3.append(aux2[indx])\n",
        "        #print(aux2[indx])\n",
        "        #print(aux3)\n",
        "\n",
        "       # aux3=list()\n",
        "      #for indx, elen  in enumerate(aux2):\n",
        "       # if aux2[indx]%2==0:\n",
        "      #    aux3.append(aux2[indx])\n",
        "        #print(aux2[indx])\n",
        "      # print(aux3)\n",
        "\n",
        "      # aux3=list()\n",
        "      #for indx, elen  in enumerate(aux2):\n",
        "        #if aux2[indx]%2==0:\n",
        "        # aux3.append(aux2[indx]**2)\n",
        "        #print(aux2[indx])\n",
        "        #print(aux3)\n",
        "\n",
        "animals=['cat' , 'dog', 'rabbit' , 'wolf ']\n",
        "for animal in animals:\n",
        "\n",
        "\n",
        "  tmp3= [ i**2 for i in range(10) if i%2==0 ]\n",
        "  print(tmp3)\n",
        "\n",
        ""
      ],
      "metadata": {
        "colab": {
          "base_uri": "https://localhost:8080/"
        },
        "id": "qV3lFQBUpgak",
        "outputId": "41feb829-74ee-4ca5-b0a3-6d3f2f0ff0e8"
      },
      "execution_count": 27,
      "outputs": [
        {
          "output_type": "stream",
          "name": "stdout",
          "text": [
            "[0, 4, 16, 36, 64]\n",
            "[0, 4, 16, 36, 64]\n",
            "[0, 4, 16, 36, 64]\n",
            "[0, 4, 16, 36, 64]\n"
          ]
        }
      ]
    },
    {
      "cell_type": "code",
      "source": [
        "myDictionary={'cat' : 'cute' , 'dog' : 'big' , 'wolf' : 'danger' , 'chiken' : 'litle' , 'turtle' : 'old'}\n",
        "print(myDictionary['wolf'])\n",
        "myDicAux={'cat' : 'cute' , 'dog' : 'big' , 'wolf' : 'danger'}\n",
        "myDictionary.update(myDicAux)\n",
        "print(myDictionary)\n",
        "for key.value in myDictionary.items():\n",
        "  #print(key)\n",
        "  print(f' key : {key} value:{value}')"
      ],
      "metadata": {
        "colab": {
          "base_uri": "https://localhost:8080/",
          "height": 245
        },
        "id": "2BTLX0wwqCb1",
        "outputId": "4df9c587-4ff7-4c2a-da0d-9c191039da58"
      },
      "execution_count": 31,
      "outputs": [
        {
          "output_type": "stream",
          "name": "stdout",
          "text": [
            "danger\n",
            "{'cat': 'cute', 'dog': 'big', 'wolf': 'danger', 'chiken': 'litle', 'turtle': 'old'}\n"
          ]
        },
        {
          "output_type": "error",
          "ename": "NameError",
          "evalue": "name 'key' is not defined",
          "traceback": [
            "\u001b[0;31m---------------------------------------------------------------------------\u001b[0m",
            "\u001b[0;31mNameError\u001b[0m                                 Traceback (most recent call last)",
            "\u001b[0;32m<ipython-input-31-353507959180>\u001b[0m in \u001b[0;36m<cell line: 6>\u001b[0;34m()\u001b[0m\n\u001b[1;32m      4\u001b[0m \u001b[0mmyDictionary\u001b[0m\u001b[0;34m.\u001b[0m\u001b[0mupdate\u001b[0m\u001b[0;34m(\u001b[0m\u001b[0mmyDicAux\u001b[0m\u001b[0;34m)\u001b[0m\u001b[0;34m\u001b[0m\u001b[0;34m\u001b[0m\u001b[0m\n\u001b[1;32m      5\u001b[0m \u001b[0mprint\u001b[0m\u001b[0;34m(\u001b[0m\u001b[0mmyDictionary\u001b[0m\u001b[0;34m)\u001b[0m\u001b[0;34m\u001b[0m\u001b[0;34m\u001b[0m\u001b[0m\n\u001b[0;32m----> 6\u001b[0;31m \u001b[0;32mfor\u001b[0m \u001b[0mkey\u001b[0m\u001b[0;34m.\u001b[0m\u001b[0mvalue\u001b[0m \u001b[0;32min\u001b[0m \u001b[0mmyDictionary\u001b[0m\u001b[0;34m.\u001b[0m\u001b[0mitems\u001b[0m\u001b[0;34m(\u001b[0m\u001b[0;34m)\u001b[0m\u001b[0;34m:\u001b[0m\u001b[0;34m\u001b[0m\u001b[0;34m\u001b[0m\u001b[0m\n\u001b[0m\u001b[1;32m      7\u001b[0m   \u001b[0;31m#print(key)\u001b[0m\u001b[0;34m\u001b[0m\u001b[0;34m\u001b[0m\u001b[0m\n\u001b[1;32m      8\u001b[0m   \u001b[0mprint\u001b[0m\u001b[0;34m(\u001b[0m\u001b[0;34mf' key : {key} value:{value}'\u001b[0m\u001b[0;34m)\u001b[0m\u001b[0;34m\u001b[0m\u001b[0;34m\u001b[0m\u001b[0m\n",
            "\u001b[0;31mNameError\u001b[0m: name 'key' is not defined"
          ]
        }
      ]
    },
    {
      "cell_type": "code",
      "source": [],
      "metadata": {
        "id": "Fzoyu8r8yHrP"
      },
      "execution_count": null,
      "outputs": []
    },
    {
      "cell_type": "code",
      "source": [
        "myList=[1,2,3,4,5,6]\n",
        "myDicAux1=(x:x^2 )"
      ],
      "metadata": {
        "id": "KWEXrdPdyAYm"
      },
      "execution_count": null,
      "outputs": []
    }
  ]
}